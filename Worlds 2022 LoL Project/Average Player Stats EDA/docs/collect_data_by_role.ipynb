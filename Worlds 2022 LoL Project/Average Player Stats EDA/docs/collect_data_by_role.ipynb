{
 "cells": [
  {
   "cell_type": "code",
   "execution_count": 1,
   "id": "f8aee810",
   "metadata": {},
   "outputs": [],
   "source": [
    "import pandas as pd\n",
    "from selenium import webdriver\n",
    "from selenium.webdriver.firefox.service import Service\n",
    "from selenium.webdriver.common.keys import Keys\n",
    "from selenium.webdriver.common.by import By\n",
    "import numpy as np"
   ]
  },
  {
   "cell_type": "code",
   "execution_count": 2,
   "id": "7f47785f",
   "metadata": {},
   "outputs": [],
   "source": [
    "roles = ['Top', 'Jungle', 'Mid', 'Bot', 'Support']"
   ]
  },
  {
   "cell_type": "code",
   "execution_count": 3,
   "id": "4c428d9c",
   "metadata": {},
   "outputs": [],
   "source": [
    "url = 'https://lol.fandom.com/wiki/Special:RunQuery/TournamentStatistics?TS%5Bpreload%5D=TournamentByPlayerRole&TS%5Brole%5D='+ roles[1] +'&TS%5Btournament%5D=2022+Season+World+Championship%2FMain+Event&_run='"
   ]
  },
  {
   "cell_type": "code",
   "execution_count": 4,
   "id": "4b2b8e53",
   "metadata": {},
   "outputs": [],
   "source": [
    "PATH = \"C:\\geckodriver.exe\"\n",
    "service = Service(PATH)\n",
    "driver = webdriver.Firefox(service=service)\n",
    "driver.get(url)\n",
    "driver.implicitly_wait(5)\n",
    "driver.find_element('css selector', \".NN0_TB_DIsNmMHgJWgT7U\").click()\n",
    "driver.find_element('xpath', \"//table/thead/tr[3]/th[20]\").click()\n",
    "driver.find_element('xpath', \"//table/thead/tr[3]/th[20]\").click()"
   ]
  },
  {
   "cell_type": "code",
   "execution_count": 5,
   "id": "f6be7378",
   "metadata": {},
   "outputs": [
    {
     "data": {
      "text/plain": [
       "['DRX',\n",
       " 'Gen.G',\n",
       " 'T1',\n",
       " 'DWG KIA',\n",
       " 'JD Gaming',\n",
       " 'EDward Gaming',\n",
       " 'Top Esports',\n",
       " 'Royal Never Give Up',\n",
       " 'Cloud9',\n",
       " '100 Thieves',\n",
       " 'CTBC Flying Oyster',\n",
       " 'Evil Geniuses',\n",
       " 'G2 Esports',\n",
       " 'Rogue (European Team)',\n",
       " 'GAM Esports',\n",
       " 'Fnatic',\n",
       " 'DRX']"
      ]
     },
     "execution_count": 5,
     "metadata": {},
     "output_type": "execute_result"
    }
   ],
   "source": [
    "teams = driver.find_elements(\"xpath\", '//table/tbody/tr/td/a/img')\n",
    "teams = [x.get_attribute(\"alt\").replace('logo std.png', '').replace('.NA', '') for x in teams]\n",
    "teams"
   ]
  },
  {
   "cell_type": "code",
   "execution_count": 6,
   "id": "e8e449d2",
   "metadata": {},
   "outputs": [
    {
     "data": {
      "text/plain": [
       "['Pyosik',\n",
       " 'Peanut',\n",
       " 'Oner',\n",
       " 'Canyon',\n",
       " 'Kanavi',\n",
       " 'JieJie',\n",
       " 'Tian',\n",
       " 'Wei',\n",
       " 'Blaber',\n",
       " 'Closer',\n",
       " 'Gemini',\n",
       " 'Inspired',\n",
       " 'Jankos',\n",
       " 'Malrang',\n",
       " 'Levi',\n",
       " 'Razork',\n",
       " 'Juhan']"
      ]
     },
     "execution_count": 6,
     "metadata": {},
     "output_type": "execute_result"
    }
   ],
   "source": [
    "player_names = driver.find_elements(\"xpath\", '//table/tbody/tr/td[2]/a')\n",
    "player_names = [x.text for x in player_names]\n",
    "player_names"
   ]
  },
  {
   "cell_type": "code",
   "execution_count": 7,
   "id": "21b14237",
   "metadata": {},
   "outputs": [
    {
     "data": {
      "text/plain": [
       "['20',\n",
       " '16',\n",
       " '18',\n",
       " '12',\n",
       " '14',\n",
       " '11',\n",
       " '6',\n",
       " '10',\n",
       " '6',\n",
       " '6',\n",
       " '6',\n",
       " '6',\n",
       " '6',\n",
       " '10',\n",
       " '6',\n",
       " '6',\n",
       " '1']"
      ]
     },
     "execution_count": 7,
     "metadata": {},
     "output_type": "execute_result"
    }
   ],
   "source": [
    "num_games = driver.find_elements(\"xpath\", '//table/tbody/tr/td[3]/a')\n",
    "num_games = [x.text for x in num_games]\n",
    "num_games"
   ]
  },
  {
   "cell_type": "code",
   "execution_count": 8,
   "id": "4e8f7bc8",
   "metadata": {},
   "outputs": [
    {
     "data": {
      "text/plain": [
       "17"
      ]
     },
     "execution_count": 8,
     "metadata": {},
     "output_type": "execute_result"
    }
   ],
   "source": [
    "num_wins = driver.find_elements(\"xpath\", '//table/tbody/tr/td[4]')\n",
    "num_wins = [x.text for x in num_wins[:len(player_names)-len(num_wins)]]\n",
    "len(num_wins)"
   ]
  },
  {
   "cell_type": "code",
   "execution_count": 9,
   "id": "f2895ea7",
   "metadata": {},
   "outputs": [
    {
     "data": {
      "text/plain": [
       "17"
      ]
     },
     "execution_count": 9,
     "metadata": {},
     "output_type": "execute_result"
    }
   ],
   "source": [
    "num_losses = driver.find_elements(\"xpath\", '//table/tbody/tr/td[5]')\n",
    "num_losses = [x.text for x in num_losses]\n",
    "len(num_losses)"
   ]
  },
  {
   "cell_type": "code",
   "execution_count": 10,
   "id": "9d500e34",
   "metadata": {},
   "outputs": [
    {
     "data": {
      "text/plain": [
       "17"
      ]
     },
     "execution_count": 10,
     "metadata": {},
     "output_type": "execute_result"
    }
   ],
   "source": [
    "wr = driver.find_elements(\"xpath\", '//table/tbody/tr/td[6]')\n",
    "wr = [x.text for x in wr]\n",
    "len(wr)"
   ]
  },
  {
   "cell_type": "code",
   "execution_count": 11,
   "id": "6f662861",
   "metadata": {},
   "outputs": [
    {
     "data": {
      "text/plain": [
       "17"
      ]
     },
     "execution_count": 11,
     "metadata": {},
     "output_type": "execute_result"
    }
   ],
   "source": [
    "kills = driver.find_elements(\"xpath\", '//table/tbody/tr/td[7]')\n",
    "kills = [x.text for x in kills]\n",
    "len(kills)"
   ]
  },
  {
   "cell_type": "code",
   "execution_count": 12,
   "id": "ac1d72f6",
   "metadata": {},
   "outputs": [
    {
     "data": {
      "text/plain": [
       "17"
      ]
     },
     "execution_count": 12,
     "metadata": {},
     "output_type": "execute_result"
    }
   ],
   "source": [
    "deaths = driver.find_elements(\"xpath\", '//table/tbody/tr/td[8]')\n",
    "deaths = [x.text for x in deaths]\n",
    "len(deaths)"
   ]
  },
  {
   "cell_type": "code",
   "execution_count": 13,
   "id": "004bc89f",
   "metadata": {},
   "outputs": [
    {
     "data": {
      "text/plain": [
       "17"
      ]
     },
     "execution_count": 13,
     "metadata": {},
     "output_type": "execute_result"
    }
   ],
   "source": [
    "assists = driver.find_elements(\"xpath\", '//table/tbody/tr/td[9]')\n",
    "assists = [x.text for x in assists]\n",
    "len(assists)"
   ]
  },
  {
   "cell_type": "code",
   "execution_count": 14,
   "id": "7db20904",
   "metadata": {},
   "outputs": [
    {
     "data": {
      "text/plain": [
       "17"
      ]
     },
     "execution_count": 14,
     "metadata": {},
     "output_type": "execute_result"
    }
   ],
   "source": [
    "kda = driver.find_elements(\"xpath\", '//table/tbody/tr/td[10]')\n",
    "kda = [x.text for x in kda]\n",
    "len(kda)"
   ]
  },
  {
   "cell_type": "code",
   "execution_count": 15,
   "id": "41977c65",
   "metadata": {},
   "outputs": [
    {
     "data": {
      "text/plain": [
       "17"
      ]
     },
     "execution_count": 15,
     "metadata": {},
     "output_type": "execute_result"
    }
   ],
   "source": [
    "cs = driver.find_elements(\"xpath\", '//table/tbody/tr/td[11]')\n",
    "cs = [x.text for x in cs]\n",
    "len(cs)"
   ]
  },
  {
   "cell_type": "code",
   "execution_count": 16,
   "id": "826cd094",
   "metadata": {},
   "outputs": [
    {
     "data": {
      "text/plain": [
       "17"
      ]
     },
     "execution_count": 16,
     "metadata": {},
     "output_type": "execute_result"
    }
   ],
   "source": [
    "cspm = driver.find_elements(\"xpath\", '//table/tbody/tr/td[12]')\n",
    "cspm = [x.text for x in cspm]\n",
    "len(cspm)"
   ]
  },
  {
   "cell_type": "code",
   "execution_count": 17,
   "id": "365db1dd",
   "metadata": {},
   "outputs": [
    {
     "data": {
      "text/plain": [
       "17"
      ]
     },
     "execution_count": 17,
     "metadata": {},
     "output_type": "execute_result"
    }
   ],
   "source": [
    "gold = driver.find_elements(\"xpath\", '//table/tbody/tr/td[13]')\n",
    "gold = [x.text for x in gold]\n",
    "len(gold)"
   ]
  },
  {
   "cell_type": "code",
   "execution_count": 18,
   "id": "c45fdecc",
   "metadata": {},
   "outputs": [
    {
     "data": {
      "text/plain": [
       "17"
      ]
     },
     "execution_count": 18,
     "metadata": {},
     "output_type": "execute_result"
    }
   ],
   "source": [
    "gold_pm = driver.find_elements(\"xpath\", '//table/tbody/tr/td[14]')\n",
    "gold_pm = [x.text for x in gold_pm]\n",
    "len(gold_pm)"
   ]
  },
  {
   "cell_type": "code",
   "execution_count": 19,
   "id": "5fd85e51",
   "metadata": {},
   "outputs": [
    {
     "data": {
      "text/plain": [
       "17"
      ]
     },
     "execution_count": 19,
     "metadata": {},
     "output_type": "execute_result"
    }
   ],
   "source": [
    "dmg = driver.find_elements(\"xpath\", '//table/tbody/tr/td[15]')\n",
    "dmg = [x.text for x in dmg]\n",
    "len(dmg)"
   ]
  },
  {
   "cell_type": "code",
   "execution_count": 20,
   "id": "be236410",
   "metadata": {},
   "outputs": [
    {
     "data": {
      "text/plain": [
       "17"
      ]
     },
     "execution_count": 20,
     "metadata": {},
     "output_type": "execute_result"
    }
   ],
   "source": [
    "dmg_pm = driver.find_elements(\"xpath\", '//table/tbody/tr/td[16]')\n",
    "dmg_pm = [x.text for x in dmg_pm]\n",
    "len(dmg_pm)"
   ]
  },
  {
   "cell_type": "code",
   "execution_count": 21,
   "id": "b9f4d1cc",
   "metadata": {},
   "outputs": [
    {
     "data": {
      "text/plain": [
       "17"
      ]
     },
     "execution_count": 21,
     "metadata": {},
     "output_type": "execute_result"
    }
   ],
   "source": [
    "kill_par = driver.find_elements(\"xpath\", '//table/tbody/tr/td[17]')\n",
    "kill_par = [x.text for x in kill_par]\n",
    "len(kill_par)"
   ]
  },
  {
   "cell_type": "code",
   "execution_count": 22,
   "id": "1ea1718c",
   "metadata": {},
   "outputs": [
    {
     "data": {
      "text/plain": [
       "17"
      ]
     },
     "execution_count": 22,
     "metadata": {},
     "output_type": "execute_result"
    }
   ],
   "source": [
    "kill_share = driver.find_elements(\"xpath\", '//table/tbody/tr/td[18]')\n",
    "kill_share = [x.text for x in kill_share]\n",
    "len(kill_share)"
   ]
  },
  {
   "cell_type": "code",
   "execution_count": 23,
   "id": "abed5cbf",
   "metadata": {},
   "outputs": [
    {
     "data": {
      "text/plain": [
       "17"
      ]
     },
     "execution_count": 23,
     "metadata": {},
     "output_type": "execute_result"
    }
   ],
   "source": [
    "gold_s = driver.find_elements(\"xpath\", '//table/tbody/tr/td[19]')\n",
    "gold_s = [x.text for x in gold_s]\n",
    "len(gold_s)"
   ]
  },
  {
   "cell_type": "code",
   "execution_count": 24,
   "id": "cb4b9e8f",
   "metadata": {},
   "outputs": [
    {
     "data": {
      "text/plain": [
       "17"
      ]
     },
     "execution_count": 24,
     "metadata": {},
     "output_type": "execute_result"
    }
   ],
   "source": [
    "cp = driver.find_elements(\"xpath\", '//table/tbody/tr/td[20]')\n",
    "cp = [x.text for x in cp]\n",
    "len(cp)"
   ]
  },
  {
   "cell_type": "code",
   "execution_count": 25,
   "id": "43e4e4cf",
   "metadata": {},
   "outputs": [
    {
     "data": {
      "text/plain": [
       "17"
      ]
     },
     "execution_count": 25,
     "metadata": {},
     "output_type": "execute_result"
    }
   ],
   "source": [
    "mp1 = driver.find_elements(\"xpath\", '//table/tbody/tr/td[21]/a[1]/span')\n",
    "mp1 = [x.get_attribute(\"title\") for x in mp1]\n",
    "len(mp1)"
   ]
  },
  {
   "cell_type": "code",
   "execution_count": 26,
   "id": "dc742fd7",
   "metadata": {},
   "outputs": [
    {
     "data": {
      "text/plain": [
       "17"
      ]
     },
     "execution_count": 26,
     "metadata": {},
     "output_type": "execute_result"
    }
   ],
   "source": [
    "mp2 = driver.find_elements(\"xpath\", '//table/tbody/tr/td[21]/a[2]/span')\n",
    "mp2 = [x.get_attribute(\"title\") for x in mp2]\n",
    "while len(mp2) != len(mp1):\n",
    "    mp2.append(np.NaN)\n",
    "len(mp2)"
   ]
  },
  {
   "cell_type": "code",
   "execution_count": 27,
   "id": "d4a41696",
   "metadata": {},
   "outputs": [
    {
     "data": {
      "text/plain": [
       "['Graves',\n",
       " 'Sejuani',\n",
       " 'Graves',\n",
       " 'Graves',\n",
       " \"Bel'Veth\",\n",
       " 'Graves',\n",
       " 'Lee Sin',\n",
       " 'Graves',\n",
       " 'Poppy',\n",
       " 'Sejuani',\n",
       " 'Lee Sin',\n",
       " 'Graves',\n",
       " 'Jarvan IV',\n",
       " 'Vi',\n",
       " 'Sejuani',\n",
       " 'Jarvan IV',\n",
       " nan]"
      ]
     },
     "execution_count": 27,
     "metadata": {},
     "output_type": "execute_result"
    }
   ],
   "source": [
    "mp3 = driver.find_elements(\"xpath\", '//table/tbody/tr/td[21]/a[3]/span')\n",
    "mp3 = [x.get_attribute(\"title\") for x in mp3]\n",
    "while len(mp3) != len(mp1):\n",
    "    mp3.append(np.NaN)\n",
    "mp3"
   ]
  },
  {
   "cell_type": "code",
   "execution_count": 28,
   "id": "9ac5cc37",
   "metadata": {},
   "outputs": [],
   "source": [
    "columns = ['Team', 'Player Name', 'Games', 'Wins', 'Losses', 'Win Rate %', 'Kills', 'Deaths', 'Assists', 'KDA', 'Creep Score (CS)', 'CS per minute', 'Gold', 'Gold per minute', 'Damage', 'Damage per minute', 'Kill Participation', 'Kill Share', 'Gold Share', 'Unique Champions', '1st Most Played', '2nd Most Played', '3rd Most Played']\n",
    "data = [teams, player_names, num_games, num_wins, num_losses, wr, kills, deaths, assists, kda, cs, cspm, gold, gold_pm, dmg, dmg_pm, kill_par, kill_share, gold_s, cp, mp1, mp2, mp3]"
   ]
  },
  {
   "cell_type": "code",
   "execution_count": 29,
   "id": "503bf1cf",
   "metadata": {},
   "outputs": [
    {
     "data": {
      "text/plain": [
       "23"
      ]
     },
     "execution_count": 29,
     "metadata": {},
     "output_type": "execute_result"
    }
   ],
   "source": [
    "len(data)"
   ]
  },
  {
   "cell_type": "code",
   "execution_count": 30,
   "id": "d65e15a8",
   "metadata": {},
   "outputs": [
    {
     "data": {
      "text/plain": [
       "23"
      ]
     },
     "execution_count": 30,
     "metadata": {},
     "output_type": "execute_result"
    }
   ],
   "source": [
    "len(columns)"
   ]
  },
  {
   "cell_type": "code",
   "execution_count": 31,
   "id": "df58485b",
   "metadata": {},
   "outputs": [],
   "source": [
    "data_dict = {k:v for (k,v) in zip(columns, data)}"
   ]
  },
  {
   "cell_type": "code",
   "execution_count": 32,
   "id": "ba502576",
   "metadata": {},
   "outputs": [
    {
     "data": {
      "text/plain": [
       "{'Team': ['DRX',\n",
       "  'Gen.G',\n",
       "  'T1',\n",
       "  'DWG KIA',\n",
       "  'JD Gaming',\n",
       "  'EDward Gaming',\n",
       "  'Top Esports',\n",
       "  'Royal Never Give Up',\n",
       "  'Cloud9',\n",
       "  '100 Thieves',\n",
       "  'CTBC Flying Oyster',\n",
       "  'Evil Geniuses',\n",
       "  'G2 Esports',\n",
       "  'Rogue (European Team)',\n",
       "  'GAM Esports',\n",
       "  'Fnatic',\n",
       "  'DRX'],\n",
       " 'Player Name': ['Pyosik',\n",
       "  'Peanut',\n",
       "  'Oner',\n",
       "  'Canyon',\n",
       "  'Kanavi',\n",
       "  'JieJie',\n",
       "  'Tian',\n",
       "  'Wei',\n",
       "  'Blaber',\n",
       "  'Closer',\n",
       "  'Gemini',\n",
       "  'Inspired',\n",
       "  'Jankos',\n",
       "  'Malrang',\n",
       "  'Levi',\n",
       "  'Razork',\n",
       "  'Juhan'],\n",
       " 'Games': ['20',\n",
       "  '16',\n",
       "  '18',\n",
       "  '12',\n",
       "  '14',\n",
       "  '11',\n",
       "  '6',\n",
       "  '10',\n",
       "  '6',\n",
       "  '6',\n",
       "  '6',\n",
       "  '6',\n",
       "  '6',\n",
       "  '10',\n",
       "  '6',\n",
       "  '6',\n",
       "  '1'],\n",
       " 'Wins': ['14',\n",
       "  '10',\n",
       "  '13',\n",
       "  '7',\n",
       "  '10',\n",
       "  '6',\n",
       "  '3',\n",
       "  '5',\n",
       "  '1',\n",
       "  '1',\n",
       "  '1',\n",
       "  '1',\n",
       "  '1',\n",
       "  '4',\n",
       "  '1',\n",
       "  '2',\n",
       "  '0'],\n",
       " 'Losses': ['6',\n",
       "  '6',\n",
       "  '5',\n",
       "  '5',\n",
       "  '4',\n",
       "  '5',\n",
       "  '3',\n",
       "  '5',\n",
       "  '5',\n",
       "  '5',\n",
       "  '5',\n",
       "  '5',\n",
       "  '5',\n",
       "  '6',\n",
       "  '5',\n",
       "  '4',\n",
       "  '1'],\n",
       " 'Win Rate %': ['70%',\n",
       "  '62.5%',\n",
       "  '72.2%',\n",
       "  '58.3%',\n",
       "  '71.4%',\n",
       "  '54.5%',\n",
       "  '50%',\n",
       "  '50%',\n",
       "  '16.7%',\n",
       "  '16.7%',\n",
       "  '16.7%',\n",
       "  '16.7%',\n",
       "  '16.7%',\n",
       "  '40%',\n",
       "  '16.7%',\n",
       "  '33.3%',\n",
       "  '0%'],\n",
       " 'Kills': ['2.5',\n",
       "  '1.94',\n",
       "  '2.78',\n",
       "  '3.42',\n",
       "  '4.57',\n",
       "  '1.73',\n",
       "  '1.83',\n",
       "  '2.2',\n",
       "  '1',\n",
       "  '2',\n",
       "  '1.33',\n",
       "  '2.17',\n",
       "  '1.33',\n",
       "  '1.5',\n",
       "  '2.67',\n",
       "  '1.5',\n",
       "  '3'],\n",
       " 'Deaths': ['1.65',\n",
       "  '1.81',\n",
       "  '2.39',\n",
       "  '2.67',\n",
       "  '2.71',\n",
       "  '2.64',\n",
       "  '2.33',\n",
       "  '2.4',\n",
       "  '3.17',\n",
       "  '2',\n",
       "  '4.5',\n",
       "  '2.33',\n",
       "  '2.83',\n",
       "  '3.1',\n",
       "  '4.5',\n",
       "  '2.67',\n",
       "  '4'],\n",
       " 'Assists': ['6.55',\n",
       "  '6.69',\n",
       "  '8.06',\n",
       "  '6.75',\n",
       "  '5.86',\n",
       "  '7.82',\n",
       "  '7.33',\n",
       "  '7.4',\n",
       "  '4.33',\n",
       "  '3.83',\n",
       "  '4.5',\n",
       "  '4',\n",
       "  '6.17',\n",
       "  '6.6',\n",
       "  '5.67',\n",
       "  '5.17',\n",
       "  '6'],\n",
       " 'KDA': ['5.48',\n",
       "  '4.76',\n",
       "  '4.53',\n",
       "  '3.81',\n",
       "  '3.84',\n",
       "  '3.62',\n",
       "  '3.93',\n",
       "  '4',\n",
       "  '1.68',\n",
       "  '2.92',\n",
       "  '1.3',\n",
       "  '2.64',\n",
       "  '2.65',\n",
       "  '2.61',\n",
       "  '1.85',\n",
       "  '2.5',\n",
       "  '2.25'],\n",
       " 'Creep Score (CS)': ['187.75',\n",
       "  '176.25',\n",
       "  '182.83',\n",
       "  '176.67',\n",
       "  '211.29',\n",
       "  '183.27',\n",
       "  '174',\n",
       "  '157.7',\n",
       "  '148.17',\n",
       "  '152.17',\n",
       "  '143.17',\n",
       "  '183.5',\n",
       "  '175.17',\n",
       "  '144.8',\n",
       "  '185.83',\n",
       "  '155.17',\n",
       "  '165'],\n",
       " 'CS per minute': ['5.46',\n",
       "  '5.61',\n",
       "  '5.73',\n",
       "  '5.59',\n",
       "  '6.73',\n",
       "  '5.48',\n",
       "  '5.52',\n",
       "  '4.99',\n",
       "  '5.45',\n",
       "  '4.95',\n",
       "  '4.52',\n",
       "  '6.38',\n",
       "  '5.81',\n",
       "  '4.67',\n",
       "  '5.88',\n",
       "  '5.03',\n",
       "  '4.56'],\n",
       " 'Gold': ['11.5',\n",
       "  '10.4',\n",
       "  '11.5',\n",
       "  '11.3',\n",
       "  '12.7',\n",
       "  '11',\n",
       "  '10.5',\n",
       "  '10.4',\n",
       "  '8.3',\n",
       "  '9.3',\n",
       "  '8.9',\n",
       "  '9.8',\n",
       "  '9.7',\n",
       "  '9.3',\n",
       "  '10.9',\n",
       "  '9.2',\n",
       "  '10.7'],\n",
       " 'Gold per minute': ['335',\n",
       "  '330',\n",
       "  '360',\n",
       "  '358',\n",
       "  '406',\n",
       "  '327',\n",
       "  '332',\n",
       "  '328',\n",
       "  '305',\n",
       "  '303',\n",
       "  '280',\n",
       "  '342',\n",
       "  '322',\n",
       "  '298',\n",
       "  '344',\n",
       "  '299',\n",
       "  '297'],\n",
       " 'Damage': ['10.9k',\n",
       "  '9.8k',\n",
       "  '11.5k',\n",
       "  '13.3k',\n",
       "  '13.3k',\n",
       "  '10.9k',\n",
       "  '10.9k',\n",
       "  '9.2k',\n",
       "  '6.9k',\n",
       "  '5.5k',\n",
       "  '6.9k',\n",
       "  '9.7k',\n",
       "  '9.2k',\n",
       "  '8.2k',\n",
       "  '16.6k',\n",
       "  '10k',\n",
       "  '12.9k'],\n",
       " 'Damage per minute': ['317',\n",
       "  '311',\n",
       "  '361',\n",
       "  '421',\n",
       "  '425',\n",
       "  '327',\n",
       "  '344',\n",
       "  '292',\n",
       "  '254',\n",
       "  '179',\n",
       "  '218',\n",
       "  '336',\n",
       "  '304',\n",
       "  '265',\n",
       "  '524',\n",
       "  '324',\n",
       "  '357'],\n",
       " 'Kill Participation': ['68%',\n",
       "  '69%',\n",
       "  '67%',\n",
       "  '70.1%',\n",
       "  '67%',\n",
       "  '72.9%',\n",
       "  '67.1%',\n",
       "  '72.7%',\n",
       "  '80%',\n",
       "  '66%',\n",
       "  '72.9%',\n",
       "  '69.8%',\n",
       "  '81.8%',\n",
       "  '73.6%',\n",
       "  '92.6%',\n",
       "  '70.2%',\n",
       "  '90%'],\n",
       " 'Kill Share': ['18.8%',\n",
       "  '15.5%',\n",
       "  '17.2%',\n",
       "  '23.6%',\n",
       "  '29.4%',\n",
       "  '13.2%',\n",
       "  '13.4%',\n",
       "  '16.7%',\n",
       "  '15%',\n",
       "  '22.6%',\n",
       "  '16.7%',\n",
       "  '24.5%',\n",
       "  '14.5%',\n",
       "  '13.6%',\n",
       "  '29.6%',\n",
       "  '15.8%',\n",
       "  '30%'],\n",
       " 'Gold Share': ['18.3%',\n",
       "  '18.3%',\n",
       "  '18.8%',\n",
       "  '19.5%',\n",
       "  '21.5%',\n",
       "  '18.3%',\n",
       "  '17.8%',\n",
       "  '18%',\n",
       "  '19.1%',\n",
       "  '18.1%',\n",
       "  '16.5%',\n",
       "  '20.6%',\n",
       "  '19.7%',\n",
       "  '17.2%',\n",
       "  '21.1%',\n",
       "  '17.7%',\n",
       "  '18.3%'],\n",
       " 'Unique Champions': ['8',\n",
       "  '8',\n",
       "  '7',\n",
       "  '7',\n",
       "  '6',\n",
       "  '6',\n",
       "  '6',\n",
       "  '5',\n",
       "  '5',\n",
       "  '5',\n",
       "  '5',\n",
       "  '5',\n",
       "  '5',\n",
       "  '4',\n",
       "  '4',\n",
       "  '3',\n",
       "  '1'],\n",
       " '1st Most Played': ['Viego',\n",
       "  'Graves',\n",
       "  'Sejuani',\n",
       "  'Viego',\n",
       "  'Viego',\n",
       "  'Lee Sin',\n",
       "  'Poppy',\n",
       "  'Vi',\n",
       "  'Trundle',\n",
       "  'Viego',\n",
       "  'Viego',\n",
       "  'Hecarim',\n",
       "  'Graves',\n",
       "  'Lee Sin',\n",
       "  'Graves',\n",
       "  'Poppy',\n",
       "  'Lee Sin'],\n",
       " '2nd Most Played': ['Kindred',\n",
       "  'Trundle',\n",
       "  'Viego',\n",
       "  'Kayn',\n",
       "  'Graves',\n",
       "  'Sejuani',\n",
       "  'Graves',\n",
       "  'Viego',\n",
       "  'Sejuani',\n",
       "  \"Bel'Veth\",\n",
       "  'Jarvan IV',\n",
       "  'Fiddlesticks',\n",
       "  'Lee Sin',\n",
       "  'Jarvan IV',\n",
       "  'Karthus',\n",
       "  'Maokai',\n",
       "  nan],\n",
       " '3rd Most Played': ['Graves',\n",
       "  'Sejuani',\n",
       "  'Graves',\n",
       "  'Graves',\n",
       "  \"Bel'Veth\",\n",
       "  'Graves',\n",
       "  'Lee Sin',\n",
       "  'Graves',\n",
       "  'Poppy',\n",
       "  'Sejuani',\n",
       "  'Lee Sin',\n",
       "  'Graves',\n",
       "  'Jarvan IV',\n",
       "  'Vi',\n",
       "  'Sejuani',\n",
       "  'Jarvan IV',\n",
       "  nan]}"
      ]
     },
     "execution_count": 32,
     "metadata": {},
     "output_type": "execute_result"
    }
   ],
   "source": [
    "data_dict"
   ]
  },
  {
   "cell_type": "code",
   "execution_count": 33,
   "id": "d203f4e4",
   "metadata": {},
   "outputs": [],
   "source": [
    "df= pd.DataFrame.from_dict(data_dict)"
   ]
  },
  {
   "cell_type": "code",
   "execution_count": 34,
   "id": "382eba8d",
   "metadata": {},
   "outputs": [
    {
     "data": {
      "text/html": [
       "<div>\n",
       "<style scoped>\n",
       "    .dataframe tbody tr th:only-of-type {\n",
       "        vertical-align: middle;\n",
       "    }\n",
       "\n",
       "    .dataframe tbody tr th {\n",
       "        vertical-align: top;\n",
       "    }\n",
       "\n",
       "    .dataframe thead th {\n",
       "        text-align: right;\n",
       "    }\n",
       "</style>\n",
       "<table border=\"1\" class=\"dataframe\">\n",
       "  <thead>\n",
       "    <tr style=\"text-align: right;\">\n",
       "      <th></th>\n",
       "      <th>Team</th>\n",
       "      <th>Player Name</th>\n",
       "      <th>Games</th>\n",
       "      <th>Wins</th>\n",
       "      <th>Losses</th>\n",
       "      <th>Win Rate %</th>\n",
       "      <th>Kills</th>\n",
       "      <th>Deaths</th>\n",
       "      <th>Assists</th>\n",
       "      <th>KDA</th>\n",
       "      <th>...</th>\n",
       "      <th>Gold per minute</th>\n",
       "      <th>Damage</th>\n",
       "      <th>Damage per minute</th>\n",
       "      <th>Kill Participation</th>\n",
       "      <th>Kill Share</th>\n",
       "      <th>Gold Share</th>\n",
       "      <th>Unique Champions</th>\n",
       "      <th>1st Most Played</th>\n",
       "      <th>2nd Most Played</th>\n",
       "      <th>3rd Most Played</th>\n",
       "    </tr>\n",
       "  </thead>\n",
       "  <tbody>\n",
       "    <tr>\n",
       "      <th>0</th>\n",
       "      <td>DRX</td>\n",
       "      <td>Pyosik</td>\n",
       "      <td>20</td>\n",
       "      <td>14</td>\n",
       "      <td>6</td>\n",
       "      <td>70%</td>\n",
       "      <td>2.5</td>\n",
       "      <td>1.65</td>\n",
       "      <td>6.55</td>\n",
       "      <td>5.48</td>\n",
       "      <td>...</td>\n",
       "      <td>335</td>\n",
       "      <td>10.9k</td>\n",
       "      <td>317</td>\n",
       "      <td>68%</td>\n",
       "      <td>18.8%</td>\n",
       "      <td>18.3%</td>\n",
       "      <td>8</td>\n",
       "      <td>Viego</td>\n",
       "      <td>Kindred</td>\n",
       "      <td>Graves</td>\n",
       "    </tr>\n",
       "    <tr>\n",
       "      <th>1</th>\n",
       "      <td>Gen.G</td>\n",
       "      <td>Peanut</td>\n",
       "      <td>16</td>\n",
       "      <td>10</td>\n",
       "      <td>6</td>\n",
       "      <td>62.5%</td>\n",
       "      <td>1.94</td>\n",
       "      <td>1.81</td>\n",
       "      <td>6.69</td>\n",
       "      <td>4.76</td>\n",
       "      <td>...</td>\n",
       "      <td>330</td>\n",
       "      <td>9.8k</td>\n",
       "      <td>311</td>\n",
       "      <td>69%</td>\n",
       "      <td>15.5%</td>\n",
       "      <td>18.3%</td>\n",
       "      <td>8</td>\n",
       "      <td>Graves</td>\n",
       "      <td>Trundle</td>\n",
       "      <td>Sejuani</td>\n",
       "    </tr>\n",
       "    <tr>\n",
       "      <th>2</th>\n",
       "      <td>T1</td>\n",
       "      <td>Oner</td>\n",
       "      <td>18</td>\n",
       "      <td>13</td>\n",
       "      <td>5</td>\n",
       "      <td>72.2%</td>\n",
       "      <td>2.78</td>\n",
       "      <td>2.39</td>\n",
       "      <td>8.06</td>\n",
       "      <td>4.53</td>\n",
       "      <td>...</td>\n",
       "      <td>360</td>\n",
       "      <td>11.5k</td>\n",
       "      <td>361</td>\n",
       "      <td>67%</td>\n",
       "      <td>17.2%</td>\n",
       "      <td>18.8%</td>\n",
       "      <td>7</td>\n",
       "      <td>Sejuani</td>\n",
       "      <td>Viego</td>\n",
       "      <td>Graves</td>\n",
       "    </tr>\n",
       "    <tr>\n",
       "      <th>3</th>\n",
       "      <td>DWG KIA</td>\n",
       "      <td>Canyon</td>\n",
       "      <td>12</td>\n",
       "      <td>7</td>\n",
       "      <td>5</td>\n",
       "      <td>58.3%</td>\n",
       "      <td>3.42</td>\n",
       "      <td>2.67</td>\n",
       "      <td>6.75</td>\n",
       "      <td>3.81</td>\n",
       "      <td>...</td>\n",
       "      <td>358</td>\n",
       "      <td>13.3k</td>\n",
       "      <td>421</td>\n",
       "      <td>70.1%</td>\n",
       "      <td>23.6%</td>\n",
       "      <td>19.5%</td>\n",
       "      <td>7</td>\n",
       "      <td>Viego</td>\n",
       "      <td>Kayn</td>\n",
       "      <td>Graves</td>\n",
       "    </tr>\n",
       "    <tr>\n",
       "      <th>4</th>\n",
       "      <td>JD Gaming</td>\n",
       "      <td>Kanavi</td>\n",
       "      <td>14</td>\n",
       "      <td>10</td>\n",
       "      <td>4</td>\n",
       "      <td>71.4%</td>\n",
       "      <td>4.57</td>\n",
       "      <td>2.71</td>\n",
       "      <td>5.86</td>\n",
       "      <td>3.84</td>\n",
       "      <td>...</td>\n",
       "      <td>406</td>\n",
       "      <td>13.3k</td>\n",
       "      <td>425</td>\n",
       "      <td>67%</td>\n",
       "      <td>29.4%</td>\n",
       "      <td>21.5%</td>\n",
       "      <td>6</td>\n",
       "      <td>Viego</td>\n",
       "      <td>Graves</td>\n",
       "      <td>Bel'Veth</td>\n",
       "    </tr>\n",
       "    <tr>\n",
       "      <th>5</th>\n",
       "      <td>EDward Gaming</td>\n",
       "      <td>JieJie</td>\n",
       "      <td>11</td>\n",
       "      <td>6</td>\n",
       "      <td>5</td>\n",
       "      <td>54.5%</td>\n",
       "      <td>1.73</td>\n",
       "      <td>2.64</td>\n",
       "      <td>7.82</td>\n",
       "      <td>3.62</td>\n",
       "      <td>...</td>\n",
       "      <td>327</td>\n",
       "      <td>10.9k</td>\n",
       "      <td>327</td>\n",
       "      <td>72.9%</td>\n",
       "      <td>13.2%</td>\n",
       "      <td>18.3%</td>\n",
       "      <td>6</td>\n",
       "      <td>Lee Sin</td>\n",
       "      <td>Sejuani</td>\n",
       "      <td>Graves</td>\n",
       "    </tr>\n",
       "    <tr>\n",
       "      <th>6</th>\n",
       "      <td>Top Esports</td>\n",
       "      <td>Tian</td>\n",
       "      <td>6</td>\n",
       "      <td>3</td>\n",
       "      <td>3</td>\n",
       "      <td>50%</td>\n",
       "      <td>1.83</td>\n",
       "      <td>2.33</td>\n",
       "      <td>7.33</td>\n",
       "      <td>3.93</td>\n",
       "      <td>...</td>\n",
       "      <td>332</td>\n",
       "      <td>10.9k</td>\n",
       "      <td>344</td>\n",
       "      <td>67.1%</td>\n",
       "      <td>13.4%</td>\n",
       "      <td>17.8%</td>\n",
       "      <td>6</td>\n",
       "      <td>Poppy</td>\n",
       "      <td>Graves</td>\n",
       "      <td>Lee Sin</td>\n",
       "    </tr>\n",
       "    <tr>\n",
       "      <th>7</th>\n",
       "      <td>Royal Never Give Up</td>\n",
       "      <td>Wei</td>\n",
       "      <td>10</td>\n",
       "      <td>5</td>\n",
       "      <td>5</td>\n",
       "      <td>50%</td>\n",
       "      <td>2.2</td>\n",
       "      <td>2.4</td>\n",
       "      <td>7.4</td>\n",
       "      <td>4</td>\n",
       "      <td>...</td>\n",
       "      <td>328</td>\n",
       "      <td>9.2k</td>\n",
       "      <td>292</td>\n",
       "      <td>72.7%</td>\n",
       "      <td>16.7%</td>\n",
       "      <td>18%</td>\n",
       "      <td>5</td>\n",
       "      <td>Vi</td>\n",
       "      <td>Viego</td>\n",
       "      <td>Graves</td>\n",
       "    </tr>\n",
       "    <tr>\n",
       "      <th>8</th>\n",
       "      <td>Cloud9</td>\n",
       "      <td>Blaber</td>\n",
       "      <td>6</td>\n",
       "      <td>1</td>\n",
       "      <td>5</td>\n",
       "      <td>16.7%</td>\n",
       "      <td>1</td>\n",
       "      <td>3.17</td>\n",
       "      <td>4.33</td>\n",
       "      <td>1.68</td>\n",
       "      <td>...</td>\n",
       "      <td>305</td>\n",
       "      <td>6.9k</td>\n",
       "      <td>254</td>\n",
       "      <td>80%</td>\n",
       "      <td>15%</td>\n",
       "      <td>19.1%</td>\n",
       "      <td>5</td>\n",
       "      <td>Trundle</td>\n",
       "      <td>Sejuani</td>\n",
       "      <td>Poppy</td>\n",
       "    </tr>\n",
       "    <tr>\n",
       "      <th>9</th>\n",
       "      <td>100 Thieves</td>\n",
       "      <td>Closer</td>\n",
       "      <td>6</td>\n",
       "      <td>1</td>\n",
       "      <td>5</td>\n",
       "      <td>16.7%</td>\n",
       "      <td>2</td>\n",
       "      <td>2</td>\n",
       "      <td>3.83</td>\n",
       "      <td>2.92</td>\n",
       "      <td>...</td>\n",
       "      <td>303</td>\n",
       "      <td>5.5k</td>\n",
       "      <td>179</td>\n",
       "      <td>66%</td>\n",
       "      <td>22.6%</td>\n",
       "      <td>18.1%</td>\n",
       "      <td>5</td>\n",
       "      <td>Viego</td>\n",
       "      <td>Bel'Veth</td>\n",
       "      <td>Sejuani</td>\n",
       "    </tr>\n",
       "    <tr>\n",
       "      <th>10</th>\n",
       "      <td>CTBC Flying Oyster</td>\n",
       "      <td>Gemini</td>\n",
       "      <td>6</td>\n",
       "      <td>1</td>\n",
       "      <td>5</td>\n",
       "      <td>16.7%</td>\n",
       "      <td>1.33</td>\n",
       "      <td>4.5</td>\n",
       "      <td>4.5</td>\n",
       "      <td>1.3</td>\n",
       "      <td>...</td>\n",
       "      <td>280</td>\n",
       "      <td>6.9k</td>\n",
       "      <td>218</td>\n",
       "      <td>72.9%</td>\n",
       "      <td>16.7%</td>\n",
       "      <td>16.5%</td>\n",
       "      <td>5</td>\n",
       "      <td>Viego</td>\n",
       "      <td>Jarvan IV</td>\n",
       "      <td>Lee Sin</td>\n",
       "    </tr>\n",
       "    <tr>\n",
       "      <th>11</th>\n",
       "      <td>Evil Geniuses</td>\n",
       "      <td>Inspired</td>\n",
       "      <td>6</td>\n",
       "      <td>1</td>\n",
       "      <td>5</td>\n",
       "      <td>16.7%</td>\n",
       "      <td>2.17</td>\n",
       "      <td>2.33</td>\n",
       "      <td>4</td>\n",
       "      <td>2.64</td>\n",
       "      <td>...</td>\n",
       "      <td>342</td>\n",
       "      <td>9.7k</td>\n",
       "      <td>336</td>\n",
       "      <td>69.8%</td>\n",
       "      <td>24.5%</td>\n",
       "      <td>20.6%</td>\n",
       "      <td>5</td>\n",
       "      <td>Hecarim</td>\n",
       "      <td>Fiddlesticks</td>\n",
       "      <td>Graves</td>\n",
       "    </tr>\n",
       "    <tr>\n",
       "      <th>12</th>\n",
       "      <td>G2 Esports</td>\n",
       "      <td>Jankos</td>\n",
       "      <td>6</td>\n",
       "      <td>1</td>\n",
       "      <td>5</td>\n",
       "      <td>16.7%</td>\n",
       "      <td>1.33</td>\n",
       "      <td>2.83</td>\n",
       "      <td>6.17</td>\n",
       "      <td>2.65</td>\n",
       "      <td>...</td>\n",
       "      <td>322</td>\n",
       "      <td>9.2k</td>\n",
       "      <td>304</td>\n",
       "      <td>81.8%</td>\n",
       "      <td>14.5%</td>\n",
       "      <td>19.7%</td>\n",
       "      <td>5</td>\n",
       "      <td>Graves</td>\n",
       "      <td>Lee Sin</td>\n",
       "      <td>Jarvan IV</td>\n",
       "    </tr>\n",
       "    <tr>\n",
       "      <th>13</th>\n",
       "      <td>Rogue (European Team)</td>\n",
       "      <td>Malrang</td>\n",
       "      <td>10</td>\n",
       "      <td>4</td>\n",
       "      <td>6</td>\n",
       "      <td>40%</td>\n",
       "      <td>1.5</td>\n",
       "      <td>3.1</td>\n",
       "      <td>6.6</td>\n",
       "      <td>2.61</td>\n",
       "      <td>...</td>\n",
       "      <td>298</td>\n",
       "      <td>8.2k</td>\n",
       "      <td>265</td>\n",
       "      <td>73.6%</td>\n",
       "      <td>13.6%</td>\n",
       "      <td>17.2%</td>\n",
       "      <td>4</td>\n",
       "      <td>Lee Sin</td>\n",
       "      <td>Jarvan IV</td>\n",
       "      <td>Vi</td>\n",
       "    </tr>\n",
       "    <tr>\n",
       "      <th>14</th>\n",
       "      <td>GAM Esports</td>\n",
       "      <td>Levi</td>\n",
       "      <td>6</td>\n",
       "      <td>1</td>\n",
       "      <td>5</td>\n",
       "      <td>16.7%</td>\n",
       "      <td>2.67</td>\n",
       "      <td>4.5</td>\n",
       "      <td>5.67</td>\n",
       "      <td>1.85</td>\n",
       "      <td>...</td>\n",
       "      <td>344</td>\n",
       "      <td>16.6k</td>\n",
       "      <td>524</td>\n",
       "      <td>92.6%</td>\n",
       "      <td>29.6%</td>\n",
       "      <td>21.1%</td>\n",
       "      <td>4</td>\n",
       "      <td>Graves</td>\n",
       "      <td>Karthus</td>\n",
       "      <td>Sejuani</td>\n",
       "    </tr>\n",
       "    <tr>\n",
       "      <th>15</th>\n",
       "      <td>Fnatic</td>\n",
       "      <td>Razork</td>\n",
       "      <td>6</td>\n",
       "      <td>2</td>\n",
       "      <td>4</td>\n",
       "      <td>33.3%</td>\n",
       "      <td>1.5</td>\n",
       "      <td>2.67</td>\n",
       "      <td>5.17</td>\n",
       "      <td>2.5</td>\n",
       "      <td>...</td>\n",
       "      <td>299</td>\n",
       "      <td>10k</td>\n",
       "      <td>324</td>\n",
       "      <td>70.2%</td>\n",
       "      <td>15.8%</td>\n",
       "      <td>17.7%</td>\n",
       "      <td>3</td>\n",
       "      <td>Poppy</td>\n",
       "      <td>Maokai</td>\n",
       "      <td>Jarvan IV</td>\n",
       "    </tr>\n",
       "    <tr>\n",
       "      <th>16</th>\n",
       "      <td>DRX</td>\n",
       "      <td>Juhan</td>\n",
       "      <td>1</td>\n",
       "      <td>0</td>\n",
       "      <td>1</td>\n",
       "      <td>0%</td>\n",
       "      <td>3</td>\n",
       "      <td>4</td>\n",
       "      <td>6</td>\n",
       "      <td>2.25</td>\n",
       "      <td>...</td>\n",
       "      <td>297</td>\n",
       "      <td>12.9k</td>\n",
       "      <td>357</td>\n",
       "      <td>90%</td>\n",
       "      <td>30%</td>\n",
       "      <td>18.3%</td>\n",
       "      <td>1</td>\n",
       "      <td>Lee Sin</td>\n",
       "      <td>NaN</td>\n",
       "      <td>NaN</td>\n",
       "    </tr>\n",
       "  </tbody>\n",
       "</table>\n",
       "<p>17 rows × 23 columns</p>\n",
       "</div>"
      ],
      "text/plain": [
       "                     Team Player Name Games Wins Losses Win Rate % Kills  \\\n",
       "0                     DRX      Pyosik    20   14      6        70%   2.5   \n",
       "1                   Gen.G      Peanut    16   10      6      62.5%  1.94   \n",
       "2                      T1        Oner    18   13      5      72.2%  2.78   \n",
       "3                 DWG KIA      Canyon    12    7      5      58.3%  3.42   \n",
       "4               JD Gaming      Kanavi    14   10      4      71.4%  4.57   \n",
       "5           EDward Gaming      JieJie    11    6      5      54.5%  1.73   \n",
       "6             Top Esports        Tian     6    3      3        50%  1.83   \n",
       "7     Royal Never Give Up         Wei    10    5      5        50%   2.2   \n",
       "8                  Cloud9      Blaber     6    1      5      16.7%     1   \n",
       "9             100 Thieves      Closer     6    1      5      16.7%     2   \n",
       "10     CTBC Flying Oyster      Gemini     6    1      5      16.7%  1.33   \n",
       "11          Evil Geniuses    Inspired     6    1      5      16.7%  2.17   \n",
       "12             G2 Esports      Jankos     6    1      5      16.7%  1.33   \n",
       "13  Rogue (European Team)     Malrang    10    4      6        40%   1.5   \n",
       "14            GAM Esports        Levi     6    1      5      16.7%  2.67   \n",
       "15                 Fnatic      Razork     6    2      4      33.3%   1.5   \n",
       "16                    DRX       Juhan     1    0      1         0%     3   \n",
       "\n",
       "   Deaths Assists   KDA  ... Gold per minute Damage Damage per minute  \\\n",
       "0    1.65    6.55  5.48  ...             335  10.9k               317   \n",
       "1    1.81    6.69  4.76  ...             330   9.8k               311   \n",
       "2    2.39    8.06  4.53  ...             360  11.5k               361   \n",
       "3    2.67    6.75  3.81  ...             358  13.3k               421   \n",
       "4    2.71    5.86  3.84  ...             406  13.3k               425   \n",
       "5    2.64    7.82  3.62  ...             327  10.9k               327   \n",
       "6    2.33    7.33  3.93  ...             332  10.9k               344   \n",
       "7     2.4     7.4     4  ...             328   9.2k               292   \n",
       "8    3.17    4.33  1.68  ...             305   6.9k               254   \n",
       "9       2    3.83  2.92  ...             303   5.5k               179   \n",
       "10    4.5     4.5   1.3  ...             280   6.9k               218   \n",
       "11   2.33       4  2.64  ...             342   9.7k               336   \n",
       "12   2.83    6.17  2.65  ...             322   9.2k               304   \n",
       "13    3.1     6.6  2.61  ...             298   8.2k               265   \n",
       "14    4.5    5.67  1.85  ...             344  16.6k               524   \n",
       "15   2.67    5.17   2.5  ...             299    10k               324   \n",
       "16      4       6  2.25  ...             297  12.9k               357   \n",
       "\n",
       "   Kill Participation Kill Share Gold Share Unique Champions 1st Most Played  \\\n",
       "0                 68%      18.8%      18.3%                8           Viego   \n",
       "1                 69%      15.5%      18.3%                8          Graves   \n",
       "2                 67%      17.2%      18.8%                7         Sejuani   \n",
       "3               70.1%      23.6%      19.5%                7           Viego   \n",
       "4                 67%      29.4%      21.5%                6           Viego   \n",
       "5               72.9%      13.2%      18.3%                6         Lee Sin   \n",
       "6               67.1%      13.4%      17.8%                6           Poppy   \n",
       "7               72.7%      16.7%        18%                5              Vi   \n",
       "8                 80%        15%      19.1%                5         Trundle   \n",
       "9                 66%      22.6%      18.1%                5           Viego   \n",
       "10              72.9%      16.7%      16.5%                5           Viego   \n",
       "11              69.8%      24.5%      20.6%                5         Hecarim   \n",
       "12              81.8%      14.5%      19.7%                5          Graves   \n",
       "13              73.6%      13.6%      17.2%                4         Lee Sin   \n",
       "14              92.6%      29.6%      21.1%                4          Graves   \n",
       "15              70.2%      15.8%      17.7%                3           Poppy   \n",
       "16                90%        30%      18.3%                1         Lee Sin   \n",
       "\n",
       "   2nd Most Played 3rd Most Played  \n",
       "0          Kindred          Graves  \n",
       "1          Trundle         Sejuani  \n",
       "2            Viego          Graves  \n",
       "3             Kayn          Graves  \n",
       "4           Graves        Bel'Veth  \n",
       "5          Sejuani          Graves  \n",
       "6           Graves         Lee Sin  \n",
       "7            Viego          Graves  \n",
       "8          Sejuani           Poppy  \n",
       "9         Bel'Veth         Sejuani  \n",
       "10       Jarvan IV         Lee Sin  \n",
       "11    Fiddlesticks          Graves  \n",
       "12         Lee Sin       Jarvan IV  \n",
       "13       Jarvan IV              Vi  \n",
       "14         Karthus         Sejuani  \n",
       "15          Maokai       Jarvan IV  \n",
       "16             NaN             NaN  \n",
       "\n",
       "[17 rows x 23 columns]"
      ]
     },
     "execution_count": 34,
     "metadata": {},
     "output_type": "execute_result"
    }
   ],
   "source": [
    "df"
   ]
  },
  {
   "cell_type": "code",
   "execution_count": null,
   "id": "43404c3d",
   "metadata": {},
   "outputs": [],
   "source": [
    "#df.to_csv(role+'_df.csv', index=False)"
   ]
  }
 ],
 "metadata": {
  "kernelspec": {
   "display_name": "Python 3 (ipykernel)",
   "language": "python",
   "name": "python3"
  },
  "language_info": {
   "codemirror_mode": {
    "name": "ipython",
    "version": 3
   },
   "file_extension": ".py",
   "mimetype": "text/x-python",
   "name": "python",
   "nbconvert_exporter": "python",
   "pygments_lexer": "ipython3",
   "version": "3.9.13"
  }
 },
 "nbformat": 4,
 "nbformat_minor": 5
}

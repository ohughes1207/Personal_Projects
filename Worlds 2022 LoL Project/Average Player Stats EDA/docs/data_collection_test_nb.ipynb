{
 "cells": [
  {
   "cell_type": "code",
   "execution_count": 8,
   "id": "07997965",
   "metadata": {},
   "outputs": [],
   "source": [
    "import pandas as pd\n",
    "from selenium import webdriver\n",
    "from selenium.webdriver.firefox.service import Service\n",
    "from selenium.webdriver.common.keys import Keys"
   ]
  },
  {
   "cell_type": "code",
   "execution_count": 9,
   "id": "8b6d77dc",
   "metadata": {},
   "outputs": [],
   "source": [
    "url = 'https://lol.fandom.com/wiki/2022_Season_World_Championship/Main_Event/Player_Statistics'"
   ]
  },
  {
   "cell_type": "code",
   "execution_count": 10,
   "id": "45de6ac3",
   "metadata": {},
   "outputs": [],
   "source": [
    "PATH = \"C:\\geckodriver.exe\"\n",
    "service = Service(PATH)\n",
    "driver = webdriver.Firefox(service=service)\n",
    "driver.get(url)"
   ]
  },
  {
   "cell_type": "code",
   "execution_count": 14,
   "id": "53ca0dd0",
   "metadata": {},
   "outputs": [
    {
     "name": "stdout",
     "output_type": "stream",
     "text": [
      "['Abbedagge', 'Closer', 'FBI', 'huhi', 'Ssumday', 'Berserker', 'Blaber', 'Fudge', 'Jensen', 'Zven', 'Gemini', 'Koala', 'Mission', 'Rest', 'Shunn', 'Atlen', 'BeryL', 'Deft', 'Kingen', 'Zeka', 'Pyosik', 'Juhan', 'Canyon', 'deokdam', 'Kellin', 'Nuguri', 'ShowMaker', 'Flandre', 'JieJie', 'Meiko', 'Scout', 'Viper', 'Impact', 'Inspired', 'jojopyun', 'Kaori', 'Vulcan', 'Humanoid', 'Hylissang', 'Razork', 'Upset', 'Wunder', 'BrokenBlade', 'caPs', 'Flakked', 'Jankos', 'Targamas', 'Bie', 'Kati', 'Kiaya', 'Levi', 'Sty1e', 'Chovy', 'Doran', 'Lehends', 'Peanut', 'Ruler', '369', 'Hope', 'Kanavi', 'Missing', 'Yagao', 'Comp', 'Larssen', 'Malrang', 'Odoamne', 'Trymbi', 'Breathe', 'GALA', 'Ming', 'Wei', 'Xiaohu', 'Faker', 'Gumayusi', 'Keria', 'Oner', 'Zeus', 'JackeyLove', 'knight', 'Mark', 'Tian', 'Wayward']\n"
     ]
    }
   ],
   "source": [
    "player_names = driver.find_elements(\"xpath\", '//table/tbody/tr/td[2]/a')[1:]\n",
    "player_names = [x.text for x in player_names]\n",
    "print(player_names)"
   ]
  },
  {
   "cell_type": "code",
   "execution_count": 66,
   "id": "10d2ae95",
   "metadata": {},
   "outputs": [
    {
     "data": {
      "text/plain": [
       "'Cloud9logo std.png'"
      ]
     },
     "execution_count": 66,
     "metadata": {},
     "output_type": "execute_result"
    }
   ],
   "source": [
    "team = driver.find_elements(\"xpath\", '//table/tbody/tr/td/a/img')\n",
    "team[6].get_attribute(\"alt\")"
   ]
  },
  {
   "cell_type": "code",
   "execution_count": 6,
   "id": "b0e94d57",
   "metadata": {},
   "outputs": [
    {
     "data": {
      "text/plain": [
       "'Fnaticlogo_std.png'"
      ]
     },
     "execution_count": 6,
     "metadata": {},
     "output_type": "execute_result"
    }
   ],
   "source": [
    "team_test = team[40].get_attribute(\"alt\")\n",
    "team_test"
   ]
  },
  {
   "cell_type": "code",
   "execution_count": 71,
   "id": "6767ec1d",
   "metadata": {},
   "outputs": [
    {
     "data": {
      "text/plain": [
       "['100 Thieves',\n",
       " '100 Thieves',\n",
       " '100 Thieves',\n",
       " '100 Thieves',\n",
       " '100 Thieves',\n",
       " 'Cloud9',\n",
       " 'Cloud9',\n",
       " 'Cloud9',\n",
       " 'Cloud9',\n",
       " 'Cloud9',\n",
       " 'CTBC Flying Oyster',\n",
       " 'CTBC Flying Oyster',\n",
       " 'CTBC Flying Oyster',\n",
       " 'CTBC Flying Oyster',\n",
       " 'CTBC Flying Oyster',\n",
       " 'CTBC Flying Oyster',\n",
       " 'DRX',\n",
       " 'DRX',\n",
       " 'DRX',\n",
       " 'DRX',\n",
       " 'DRX',\n",
       " 'DRX',\n",
       " 'DWG KIA',\n",
       " 'DWG KIA',\n",
       " 'DWG KIA',\n",
       " 'DWG KIA',\n",
       " 'DWG KIA',\n",
       " 'EDward Gaming',\n",
       " 'EDward Gaming',\n",
       " 'EDward Gaming',\n",
       " 'EDward Gaming',\n",
       " 'EDward Gaming',\n",
       " 'Evil Geniuses',\n",
       " 'Evil Geniuses',\n",
       " 'Evil Geniuses',\n",
       " 'Evil Geniuses',\n",
       " 'Evil Geniuses',\n",
       " 'Fnatic',\n",
       " 'Fnatic',\n",
       " 'Fnatic',\n",
       " 'Fnatic',\n",
       " 'Fnatic',\n",
       " 'G2 Esports',\n",
       " 'G2 Esports',\n",
       " 'G2 Esports',\n",
       " 'G2 Esports',\n",
       " 'G2 Esports',\n",
       " 'GAM Esports',\n",
       " 'GAM Esports',\n",
       " 'GAM Esports',\n",
       " 'GAM Esports',\n",
       " 'GAM Esports',\n",
       " 'Gen.G',\n",
       " 'Gen.G',\n",
       " 'Gen.G',\n",
       " 'Gen.G',\n",
       " 'Gen.G',\n",
       " 'JD Gaming',\n",
       " 'JD Gaming',\n",
       " 'JD Gaming',\n",
       " 'JD Gaming',\n",
       " 'JD Gaming',\n",
       " 'Rogue (European Team)',\n",
       " 'Rogue (European Team)',\n",
       " 'Rogue (European Team)',\n",
       " 'Rogue (European Team)',\n",
       " 'Rogue (European Team)',\n",
       " 'Royal Never Give Up',\n",
       " 'Royal Never Give Up',\n",
       " 'Royal Never Give Up',\n",
       " 'Royal Never Give Up',\n",
       " 'Royal Never Give Up',\n",
       " 'T1',\n",
       " 'T1',\n",
       " 'T1',\n",
       " 'T1',\n",
       " 'T1',\n",
       " 'Top Esports',\n",
       " 'Top Esports',\n",
       " 'Top Esports',\n",
       " 'Top Esports',\n",
       " 'Top Esports']"
      ]
     },
     "execution_count": 71,
     "metadata": {},
     "output_type": "execute_result"
    }
   ],
   "source": [
    "teams = [x.get_attribute(\"alt\").replace('logo std.png', '').replace('.NA', '') for x in team]\n",
    "teams"
   ]
  },
  {
   "cell_type": "code",
   "execution_count": 8,
   "id": "3c7c5752",
   "metadata": {},
   "outputs": [
    {
     "data": {
      "text/plain": [
       "['6',\n",
       " '6',\n",
       " '6',\n",
       " '6',\n",
       " '6',\n",
       " '6',\n",
       " '6',\n",
       " '6',\n",
       " '6',\n",
       " '6',\n",
       " '6',\n",
       " '6',\n",
       " '6',\n",
       " '6',\n",
       " '5',\n",
       " '1',\n",
       " '21',\n",
       " '21',\n",
       " '21',\n",
       " '21',\n",
       " '20',\n",
       " '1',\n",
       " '12',\n",
       " '12',\n",
       " '12',\n",
       " '12',\n",
       " '12',\n",
       " '11',\n",
       " '11',\n",
       " '11',\n",
       " '11',\n",
       " '11',\n",
       " '6',\n",
       " '6',\n",
       " '6',\n",
       " '6',\n",
       " '6',\n",
       " '6',\n",
       " '6',\n",
       " '6',\n",
       " '6',\n",
       " '6',\n",
       " '6',\n",
       " '6',\n",
       " '6',\n",
       " '6',\n",
       " '6',\n",
       " '6',\n",
       " '6',\n",
       " '6',\n",
       " '6',\n",
       " '6',\n",
       " '16',\n",
       " '16',\n",
       " '16',\n",
       " '16',\n",
       " '16',\n",
       " '14',\n",
       " '14',\n",
       " '14',\n",
       " '14',\n",
       " '14',\n",
       " '10',\n",
       " '10',\n",
       " '10',\n",
       " '10',\n",
       " '10',\n",
       " '10',\n",
       " '10',\n",
       " '10',\n",
       " '10',\n",
       " '10',\n",
       " '18',\n",
       " '18',\n",
       " '18',\n",
       " '18',\n",
       " '18',\n",
       " '6',\n",
       " '6',\n",
       " '6',\n",
       " '6',\n",
       " '6']"
      ]
     },
     "execution_count": 8,
     "metadata": {},
     "output_type": "execute_result"
    }
   ],
   "source": [
    "num_games = driver.find_elements(\"xpath\", '//table/tbody/tr/td[3]/a')[1:]\n",
    "num_games = [x.text for x in num_games]\n",
    "num_games"
   ]
  },
  {
   "cell_type": "code",
   "execution_count": 15,
   "id": "cb2f05f2",
   "metadata": {},
   "outputs": [
    {
     "data": {
      "text/plain": [
       "82"
      ]
     },
     "execution_count": 15,
     "metadata": {},
     "output_type": "execute_result"
    }
   ],
   "source": [
    "num_wins = driver.find_elements(\"xpath\", '//table/tbody/tr/td[4]')[1:]\n",
    "num_wins = [x.text for x in num_wins]\n",
    "len(num_wins)"
   ]
  },
  {
   "cell_type": "code",
   "execution_count": 23,
   "id": "b897b9d3",
   "metadata": {},
   "outputs": [
    {
     "data": {
      "text/plain": [
       "82"
      ]
     },
     "execution_count": 23,
     "metadata": {},
     "output_type": "execute_result"
    }
   ],
   "source": [
    "num_losses = driver.find_elements(\"xpath\", '//table/tbody/tr/td[5]')[1:]\n",
    "num_losses = [x.text for x in num_losses]\n",
    "len(num_losses)"
   ]
  },
  {
   "cell_type": "code",
   "execution_count": 27,
   "id": "385a2d0a",
   "metadata": {},
   "outputs": [
    {
     "data": {
      "text/plain": [
       "82"
      ]
     },
     "execution_count": 27,
     "metadata": {},
     "output_type": "execute_result"
    }
   ],
   "source": [
    "wr = driver.find_elements(\"xpath\", '//table/tbody/tr/td[6]')\n",
    "wr = [x.text for x in wr]\n",
    "len(wr)"
   ]
  },
  {
   "cell_type": "code",
   "execution_count": 35,
   "id": "eb38dd00",
   "metadata": {},
   "outputs": [
    {
     "data": {
      "text/plain": [
       "82"
      ]
     },
     "execution_count": 35,
     "metadata": {},
     "output_type": "execute_result"
    }
   ],
   "source": [
    "kills = driver.find_elements(\"xpath\", '//table/tbody/tr/td[7]')\n",
    "kills = [x.text for x in kills]\n",
    "len(kills)"
   ]
  },
  {
   "cell_type": "code",
   "execution_count": 36,
   "id": "f0ea3474",
   "metadata": {},
   "outputs": [
    {
     "data": {
      "text/plain": [
       "82"
      ]
     },
     "execution_count": 36,
     "metadata": {},
     "output_type": "execute_result"
    }
   ],
   "source": [
    "deaths = driver.find_elements(\"xpath\", '//table/tbody/tr/td[8]')\n",
    "deaths = [x.text for x in deaths]\n",
    "len(deaths)"
   ]
  },
  {
   "cell_type": "code",
   "execution_count": 38,
   "id": "ae2d1c22",
   "metadata": {},
   "outputs": [
    {
     "data": {
      "text/plain": [
       "82"
      ]
     },
     "execution_count": 38,
     "metadata": {},
     "output_type": "execute_result"
    }
   ],
   "source": [
    "assists = driver.find_elements(\"xpath\", '//table/tbody/tr/td[9]')\n",
    "assists = [x.text for x in assists]\n",
    "len(assists)"
   ]
  },
  {
   "cell_type": "code",
   "execution_count": 39,
   "id": "e444f6f8",
   "metadata": {},
   "outputs": [
    {
     "data": {
      "text/plain": [
       "82"
      ]
     },
     "execution_count": 39,
     "metadata": {},
     "output_type": "execute_result"
    }
   ],
   "source": [
    "kda = driver.find_elements(\"xpath\", '//table/tbody/tr/td[10]')\n",
    "kda = [x.text for x in kda]\n",
    "len(kda)"
   ]
  },
  {
   "cell_type": "code",
   "execution_count": 40,
   "id": "0ee28c03",
   "metadata": {},
   "outputs": [
    {
     "data": {
      "text/plain": [
       "82"
      ]
     },
     "execution_count": 40,
     "metadata": {},
     "output_type": "execute_result"
    }
   ],
   "source": [
    "cs = driver.find_elements(\"xpath\", '//table/tbody/tr/td[11]')\n",
    "cs = [x.text for x in cs]\n",
    "len(cs)"
   ]
  },
  {
   "cell_type": "code",
   "execution_count": 42,
   "id": "ee955dff",
   "metadata": {},
   "outputs": [
    {
     "data": {
      "text/plain": [
       "82"
      ]
     },
     "execution_count": 42,
     "metadata": {},
     "output_type": "execute_result"
    }
   ],
   "source": [
    "cspm = driver.find_elements(\"xpath\", '//table/tbody/tr/td[12]')\n",
    "cspm = [x.text for x in cspm]\n",
    "len(cspm)"
   ]
  },
  {
   "cell_type": "code",
   "execution_count": 43,
   "id": "2c5d08b3",
   "metadata": {},
   "outputs": [
    {
     "data": {
      "text/plain": [
       "82"
      ]
     },
     "execution_count": 43,
     "metadata": {},
     "output_type": "execute_result"
    }
   ],
   "source": [
    "gold = driver.find_elements(\"xpath\", '//table/tbody/tr/td[13]')\n",
    "gold = [x.text for x in gold]\n",
    "len(gold)"
   ]
  },
  {
   "cell_type": "code",
   "execution_count": 44,
   "id": "0d80116a",
   "metadata": {},
   "outputs": [
    {
     "data": {
      "text/plain": [
       "82"
      ]
     },
     "execution_count": 44,
     "metadata": {},
     "output_type": "execute_result"
    }
   ],
   "source": [
    "gold_pm = driver.find_elements(\"xpath\", '//table/tbody/tr/td[14]')\n",
    "gold_pm = [x.text for x in gold_pm]\n",
    "len(gold_pm)"
   ]
  },
  {
   "cell_type": "code",
   "execution_count": 45,
   "id": "45f93e4e",
   "metadata": {},
   "outputs": [
    {
     "data": {
      "text/plain": [
       "82"
      ]
     },
     "execution_count": 45,
     "metadata": {},
     "output_type": "execute_result"
    }
   ],
   "source": [
    "dmg = driver.find_elements(\"xpath\", '//table/tbody/tr/td[15]')\n",
    "dmg = [x.text for x in dmg]\n",
    "len(dmg)"
   ]
  },
  {
   "cell_type": "code",
   "execution_count": 46,
   "id": "34ab8c16",
   "metadata": {},
   "outputs": [
    {
     "data": {
      "text/plain": [
       "82"
      ]
     },
     "execution_count": 46,
     "metadata": {},
     "output_type": "execute_result"
    }
   ],
   "source": [
    "dmg_pm = driver.find_elements(\"xpath\", '//table/tbody/tr/td[16]')\n",
    "dmg_pm = [x.text for x in dmg_pm]\n",
    "len(dmg_pm)"
   ]
  },
  {
   "cell_type": "code",
   "execution_count": 47,
   "id": "d08a9a9d",
   "metadata": {},
   "outputs": [
    {
     "data": {
      "text/plain": [
       "82"
      ]
     },
     "execution_count": 47,
     "metadata": {},
     "output_type": "execute_result"
    }
   ],
   "source": [
    "kill_par = driver.find_elements(\"xpath\", '//table/tbody/tr/td[17]')\n",
    "kill_par = [x.text for x in kill_par]\n",
    "len(kill_par)"
   ]
  },
  {
   "cell_type": "code",
   "execution_count": 48,
   "id": "b4366bad",
   "metadata": {},
   "outputs": [
    {
     "data": {
      "text/plain": [
       "82"
      ]
     },
     "execution_count": 48,
     "metadata": {},
     "output_type": "execute_result"
    }
   ],
   "source": [
    "kill_share = driver.find_elements(\"xpath\", '//table/tbody/tr/td[18]')\n",
    "kill_share = [x.text for x in kill_share]\n",
    "len(kill_share)"
   ]
  },
  {
   "cell_type": "code",
   "execution_count": 49,
   "id": "ba728558",
   "metadata": {},
   "outputs": [
    {
     "data": {
      "text/plain": [
       "82"
      ]
     },
     "execution_count": 49,
     "metadata": {},
     "output_type": "execute_result"
    }
   ],
   "source": [
    "gold_s = driver.find_elements(\"xpath\", '//table/tbody/tr/td[19]')\n",
    "gold_s = [x.text for x in gold_s]\n",
    "len(gold_s)"
   ]
  },
  {
   "cell_type": "code",
   "execution_count": 50,
   "id": "081bb813",
   "metadata": {},
   "outputs": [
    {
     "data": {
      "text/plain": [
       "82"
      ]
     },
     "execution_count": 50,
     "metadata": {},
     "output_type": "execute_result"
    }
   ],
   "source": [
    "cp = driver.find_elements(\"xpath\", '//table/tbody/tr/td[20]')\n",
    "cp = [x.text for x in cp]\n",
    "len(cp)"
   ]
  },
  {
   "cell_type": "code",
   "execution_count": 63,
   "id": "9fa823fc",
   "metadata": {},
   "outputs": [
    {
     "data": {
      "text/plain": [
       "'Viktor'"
      ]
     },
     "execution_count": 63,
     "metadata": {},
     "output_type": "execute_result"
    }
   ],
   "source": [
    "mp1 = driver.find_elements(\"xpath\", '//table/tbody/tr/td[21]/a[1]/span')\n",
    "mp1[0].get_attribute(\"title\")"
   ]
  },
  {
   "cell_type": "code",
   "execution_count": null,
   "id": "7c683d11",
   "metadata": {},
   "outputs": [],
   "source": []
  }
 ],
 "metadata": {
  "kernelspec": {
   "display_name": "Python 3 (ipykernel)",
   "language": "python",
   "name": "python3"
  },
  "language_info": {
   "codemirror_mode": {
    "name": "ipython",
    "version": 3
   },
   "file_extension": ".py",
   "mimetype": "text/x-python",
   "name": "python",
   "nbconvert_exporter": "python",
   "pygments_lexer": "ipython3",
   "version": "3.9.13"
  }
 },
 "nbformat": 4,
 "nbformat_minor": 5
}

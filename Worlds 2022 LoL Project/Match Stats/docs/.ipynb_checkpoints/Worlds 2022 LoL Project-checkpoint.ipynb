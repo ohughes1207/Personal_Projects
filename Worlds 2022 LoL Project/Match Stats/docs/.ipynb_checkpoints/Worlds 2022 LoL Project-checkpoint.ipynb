{
 "cells": [
  {
   "cell_type": "code",
   "execution_count": null,
   "id": "7549431f",
   "metadata": {},
   "outputs": [],
   "source": [
    "import pandas as pd\n",
    "\n",
    "data_l = ['Days 1-2.csv', 'Days 3-4.csv', 'Days 5-6.csv', 'Days 7-8.csv', 'Tiebreakers.csv', 'Quarterfinals.csv', 'Semifinals and Finals.csv']\n",
    "df_list = [pd.read_csv('./data/'+x) for x in data_l]\n",
    "\n",
    "keys= [x.split('.')[0] for x in data_l]\n",
    "\n",
    "\n",
    "roles=['Top', 'Jungle', 'Mid', 'Bottom', 'Support']\n",
    "df = pd.concat(df_list, keys=keys, ignore_index=True)\n",
    "\n",
    "pd.set_option('display.max_columns', None)\n",
    "pd.set_option('display.max_rows', None)\n",
    "pd.set_option('display.max_colwidth', None)\n",
    "\n",
    "print(df)"
   ]
  }
 ],
 "metadata": {
  "kernelspec": {
   "display_name": "Python 3 (ipykernel)",
   "language": "python",
   "name": "python3"
  },
  "language_info": {
   "codemirror_mode": {
    "name": "ipython",
    "version": 3
   },
   "file_extension": ".py",
   "mimetype": "text/x-python",
   "name": "python",
   "nbconvert_exporter": "python",
   "pygments_lexer": "ipython3",
   "version": "3.9.13"
  }
 },
 "nbformat": 4,
 "nbformat_minor": 5
}
